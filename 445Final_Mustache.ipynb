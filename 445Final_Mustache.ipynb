{
  "nbformat": 4,
  "nbformat_minor": 0,
  "metadata": {
    "colab": {
      "provenance": []
    },
    "kernelspec": {
      "name": "python3",
      "display_name": "Python 3"
    },
    "language_info": {
      "name": "python"
    }
  },
  "cells": [
    {
      "cell_type": "code",
      "source": [
        "!pip install mediapipe==0.10.14 --no-deps"
      ],
      "metadata": {
        "colab": {
          "base_uri": "https://localhost:8080/"
        },
        "id": "g_C1hVx7A3oY",
        "outputId": "e92e71ec-189d-4813-8b09-10116786a655"
      },
      "execution_count": 1,
      "outputs": [
        {
          "output_type": "stream",
          "name": "stdout",
          "text": [
            "Collecting mediapipe==0.10.14\n",
            "  Downloading mediapipe-0.10.14-cp311-cp311-manylinux_2_17_x86_64.manylinux2014_x86_64.whl.metadata (9.7 kB)\n",
            "Downloading mediapipe-0.10.14-cp311-cp311-manylinux_2_17_x86_64.manylinux2014_x86_64.whl (35.7 MB)\n",
            "\u001b[2K   \u001b[90m━━━━━━━━━━━━━━━━━━━━━━━━━━━━━━━━━━━━━━━━\u001b[0m \u001b[32m35.7/35.7 MB\u001b[0m \u001b[31m13.8 MB/s\u001b[0m eta \u001b[36m0:00:00\u001b[0m\n",
            "\u001b[?25hInstalling collected packages: mediapipe\n",
            "Successfully installed mediapipe-0.10.14\n"
          ]
        }
      ]
    },
    {
      "cell_type": "code",
      "source": [
        "!pip uninstall -y mediapipe\n",
        "!pip install mediapipe==0.10.14\n"
      ],
      "metadata": {
        "colab": {
          "base_uri": "https://localhost:8080/",
          "height": 896
        },
        "id": "4FFg8th6LHFF",
        "outputId": "d58195ec-575c-4723-ea17-f433040bbf8b"
      },
      "execution_count": 5,
      "outputs": [
        {
          "output_type": "stream",
          "name": "stdout",
          "text": [
            "Found existing installation: mediapipe 0.10.14\n",
            "Uninstalling mediapipe-0.10.14:\n",
            "  Successfully uninstalled mediapipe-0.10.14\n",
            "Collecting mediapipe==0.10.14\n",
            "  Using cached mediapipe-0.10.14-cp311-cp311-manylinux_2_17_x86_64.manylinux2014_x86_64.whl.metadata (9.7 kB)\n",
            "Requirement already satisfied: absl-py in /usr/local/lib/python3.11/dist-packages (from mediapipe==0.10.14) (1.4.0)\n",
            "Requirement already satisfied: attrs>=19.1.0 in /usr/local/lib/python3.11/dist-packages (from mediapipe==0.10.14) (25.3.0)\n",
            "Requirement already satisfied: flatbuffers>=2.0 in /usr/local/lib/python3.11/dist-packages (from mediapipe==0.10.14) (25.2.10)\n",
            "Requirement already satisfied: jax in /usr/local/lib/python3.11/dist-packages (from mediapipe==0.10.14) (0.5.2)\n",
            "Requirement already satisfied: jaxlib in /usr/local/lib/python3.11/dist-packages (from mediapipe==0.10.14) (0.5.1)\n",
            "Requirement already satisfied: matplotlib in /usr/local/lib/python3.11/dist-packages (from mediapipe==0.10.14) (3.10.0)\n",
            "Requirement already satisfied: numpy in /usr/local/lib/python3.11/dist-packages (from mediapipe==0.10.14) (2.0.2)\n",
            "Requirement already satisfied: opencv-contrib-python in /usr/local/lib/python3.11/dist-packages (from mediapipe==0.10.14) (4.11.0.86)\n",
            "Collecting protobuf<5,>=4.25.3 (from mediapipe==0.10.14)\n",
            "  Downloading protobuf-4.25.7-cp37-abi3-manylinux2014_x86_64.whl.metadata (541 bytes)\n",
            "Collecting sounddevice>=0.4.4 (from mediapipe==0.10.14)\n",
            "  Downloading sounddevice-0.5.1-py3-none-any.whl.metadata (1.4 kB)\n",
            "Requirement already satisfied: CFFI>=1.0 in /usr/local/lib/python3.11/dist-packages (from sounddevice>=0.4.4->mediapipe==0.10.14) (1.17.1)\n",
            "Requirement already satisfied: ml_dtypes>=0.4.0 in /usr/local/lib/python3.11/dist-packages (from jax->mediapipe==0.10.14) (0.4.1)\n",
            "Requirement already satisfied: opt_einsum in /usr/local/lib/python3.11/dist-packages (from jax->mediapipe==0.10.14) (3.4.0)\n",
            "Requirement already satisfied: scipy>=1.11.1 in /usr/local/lib/python3.11/dist-packages (from jax->mediapipe==0.10.14) (1.15.2)\n",
            "Requirement already satisfied: contourpy>=1.0.1 in /usr/local/lib/python3.11/dist-packages (from matplotlib->mediapipe==0.10.14) (1.3.2)\n",
            "Requirement already satisfied: cycler>=0.10 in /usr/local/lib/python3.11/dist-packages (from matplotlib->mediapipe==0.10.14) (0.12.1)\n",
            "Requirement already satisfied: fonttools>=4.22.0 in /usr/local/lib/python3.11/dist-packages (from matplotlib->mediapipe==0.10.14) (4.57.0)\n",
            "Requirement already satisfied: kiwisolver>=1.3.1 in /usr/local/lib/python3.11/dist-packages (from matplotlib->mediapipe==0.10.14) (1.4.8)\n",
            "Requirement already satisfied: packaging>=20.0 in /usr/local/lib/python3.11/dist-packages (from matplotlib->mediapipe==0.10.14) (24.2)\n",
            "Requirement already satisfied: pillow>=8 in /usr/local/lib/python3.11/dist-packages (from matplotlib->mediapipe==0.10.14) (11.2.1)\n",
            "Requirement already satisfied: pyparsing>=2.3.1 in /usr/local/lib/python3.11/dist-packages (from matplotlib->mediapipe==0.10.14) (3.2.3)\n",
            "Requirement already satisfied: python-dateutil>=2.7 in /usr/local/lib/python3.11/dist-packages (from matplotlib->mediapipe==0.10.14) (2.9.0.post0)\n",
            "Requirement already satisfied: pycparser in /usr/local/lib/python3.11/dist-packages (from CFFI>=1.0->sounddevice>=0.4.4->mediapipe==0.10.14) (2.22)\n",
            "Requirement already satisfied: six>=1.5 in /usr/local/lib/python3.11/dist-packages (from python-dateutil>=2.7->matplotlib->mediapipe==0.10.14) (1.17.0)\n",
            "Using cached mediapipe-0.10.14-cp311-cp311-manylinux_2_17_x86_64.manylinux2014_x86_64.whl (35.7 MB)\n",
            "Downloading protobuf-4.25.7-cp37-abi3-manylinux2014_x86_64.whl (294 kB)\n",
            "\u001b[2K   \u001b[90m━━━━━━━━━━━━━━━━━━━━━━━━━━━━━━━━━━━━━━━━\u001b[0m \u001b[32m294.6/294.6 kB\u001b[0m \u001b[31m6.1 MB/s\u001b[0m eta \u001b[36m0:00:00\u001b[0m\n",
            "\u001b[?25hDownloading sounddevice-0.5.1-py3-none-any.whl (32 kB)\n",
            "Installing collected packages: protobuf, sounddevice, mediapipe\n",
            "  Attempting uninstall: protobuf\n",
            "    Found existing installation: protobuf 5.29.4\n",
            "    Uninstalling protobuf-5.29.4:\n",
            "      Successfully uninstalled protobuf-5.29.4\n",
            "\u001b[31mERROR: pip's dependency resolver does not currently take into account all the packages that are installed. This behaviour is the source of the following dependency conflicts.\n",
            "grpcio-status 1.71.0 requires protobuf<6.0dev,>=5.26.1, but you have protobuf 4.25.7 which is incompatible.\n",
            "ydf 0.11.0 requires protobuf<6.0.0,>=5.29.1, but you have protobuf 4.25.7 which is incompatible.\u001b[0m\u001b[31m\n",
            "\u001b[0mSuccessfully installed mediapipe-0.10.14 protobuf-4.25.7 sounddevice-0.5.1\n"
          ]
        },
        {
          "output_type": "display_data",
          "data": {
            "application/vnd.colab-display-data+json": {
              "pip_warning": {
                "packages": [
                  "mediapipe"
                ]
              },
              "id": "7d2452fddc354040b9c77caea7a962ae"
            }
          },
          "metadata": {}
        }
      ]
    },
    {
      "cell_type": "code",
      "source": [
        "import os\n",
        "print(os.getcwd())      # Shows current working directory\n",
        "print(os.listdir())     # Lists files in the current directory\n"
      ],
      "metadata": {
        "colab": {
          "base_uri": "https://localhost:8080/"
        },
        "id": "pxysTzZKKj9U",
        "outputId": "f5c9beb3-1982-4e5b-ccfc-c9e8b7d09ed8"
      },
      "execution_count": 32,
      "outputs": [
        {
          "output_type": "stream",
          "name": "stdout",
          "text": [
            "/content\n",
            "['.config', 'input.MOV', 'mustache_filter_output.mp4', 'mustache.png', '.ipynb_checkpoints', 'sample_data']\n"
          ]
        }
      ]
    },
    {
      "cell_type": "code",
      "source": [
        "import cv2\n",
        "import numpy as np\n",
        "import mediapipe as mp\n",
        "\n",
        "# Load mustache image (must be RGBA)\n",
        "mustache_img = cv2.imread('mustache.png', cv2.IMREAD_UNCHANGED)\n",
        "\n",
        "# Initialize MediaPipe Face Mesh\n",
        "mp_face_mesh = mp.solutions.face_mesh\n",
        "face_mesh = mp_face_mesh.FaceMesh(static_image_mode=False, max_num_faces=1)\n",
        "\n",
        "# Load video\n",
        "cap = cv2.VideoCapture('/content/input.MOV')\n",
        "frames = []\n",
        "while cap.isOpened():\n",
        "    ret, frame = cap.read()\n",
        "    if not ret:\n",
        "        break\n",
        "    frames.append(cv2.cvtColor(frame, cv2.COLOR_BGR2RGB))\n",
        "cap.release()\n",
        "print(f\"✅ Loaded {len(frames)} frames\")\n",
        "\n",
        "# Process each frame\n",
        "output = []\n",
        "for frame in frames:\n",
        "    h, w = frame.shape[:2]\n",
        "    result = face_mesh.process(cv2.cvtColor(frame, cv2.COLOR_RGB2BGR))\n",
        "    if not result.multi_face_landmarks:\n",
        "        output.append(frame)\n",
        "        continue\n",
        "\n",
        "    lm = result.multi_face_landmarks[0].landmark\n",
        "\n",
        "    # Landmarks for nose and mouth area\n",
        "    nose_tip = np.array([lm[1].x * w, lm[1].y * h])\n",
        "    left_mouth = np.array([lm[61].x * w, lm[61].y * h])\n",
        "    right_mouth = np.array([lm[291].x * w, lm[291].y * h])\n",
        "\n",
        "    # Width and angle of mustache\n",
        "    mustache_width = int(np.linalg.norm(left_mouth - right_mouth) * 1.8)  # Increased from 1.2 to 1.8\n",
        "    mustache_height = int(mustache_width * mustache_img.shape[0] / mustache_img.shape[1])\n",
        "    resized_overlay = cv2.resize(mustache_img, (mustache_width, mustache_height), interpolation=cv2.INTER_AREA)\n",
        "\n",
        "    # Rotation angle\n",
        "    angle_rad = np.arctan2(right_mouth[1] - left_mouth[1], right_mouth[0] - left_mouth[0])\n",
        "    angle_deg = np.degrees(angle_rad)\n",
        "\n",
        "    # Rotate mustache to allign with video\n",
        "    (h_overlay, w_overlay) = resized_overlay.shape[:2]\n",
        "    center = (w_overlay // 2, h_overlay // 2)\n",
        "    M = cv2.getRotationMatrix2D(center, -angle_deg, 1.0)  # Negative for correct tilt\n",
        "    cos = np.abs(M[0, 0])\n",
        "    sin = np.abs(M[0, 1])\n",
        "    new_w = int((h_overlay * sin) + (w_overlay * cos))\n",
        "    new_h = int((h_overlay * cos) + (w_overlay * sin))\n",
        "    M[0, 2] += (new_w / 2) - center[0]\n",
        "    M[1, 2] += (new_h / 2) - center[1]\n",
        "    rotated_overlay = cv2.warpAffine(resized_overlay, M, (new_w, new_h), flags=cv2.INTER_LINEAR, borderMode=cv2.BORDER_CONSTANT, borderValue=(0, 0, 0, 0))\n",
        "\n",
        "    # Position: Center the mustache under the nose\n",
        "    top_x = int(nose_tip[0] - rotated_overlay.shape[1] // 2 + 50)\n",
        "    top_y = int(nose_tip[1] + mustache_height * 0.2 - 145)  # Offsets for x,y. Algorithm was a little off consistently by the same amount\n",
        "\n",
        "    # Apply alpha blending to overlay mustache on the frame\n",
        "    alpha = rotated_overlay[:, :, 3] / 255.0\n",
        "    for c in range(3):\n",
        "        frame[top_y:top_y + rotated_overlay.shape[0], top_x:top_x + rotated_overlay.shape[1], c] = \\\n",
        "            (1 - alpha) * frame[top_y:top_y + rotated_overlay.shape[0], top_x:top_x + rotated_overlay.shape[1], c] + \\\n",
        "            alpha * rotated_overlay[:, :, c]\n",
        "\n",
        "    output.append(frame)\n",
        "\n",
        "# Save output as MP4\n",
        "if output:\n",
        "    bgr_frames = [cv2.cvtColor(f, cv2.COLOR_RGB2BGR) for f in output]\n",
        "    height, width = bgr_frames[0].shape[:2]\n",
        "    fourcc = cv2.VideoWriter_fourcc(*'mp4v')\n",
        "    out = cv2.VideoWriter('mustache_filter_output.mp4', fourcc, 10.0, (width, height))\n",
        "    for frame in bgr_frames:\n",
        "        out.write(frame)\n",
        "    out.release()\n",
        "    print(\"✅ Saved: mustache_filter_output.mp4\")\n",
        "else:\n",
        "    print(\"❌ No frames processed.\")\n"
      ],
      "metadata": {
        "colab": {
          "base_uri": "https://localhost:8080/"
        },
        "id": "2FMHhJ9GHE6i",
        "outputId": "6cfc27bc-6103-45e8-f286-38878ced6972"
      },
      "execution_count": 30,
      "outputs": [
        {
          "output_type": "stream",
          "name": "stdout",
          "text": [
            "✅ Loaded 123 frames\n",
            "✅ Saved: mustache_filter_output.mp4\n"
          ]
        }
      ]
    }
  ]
}