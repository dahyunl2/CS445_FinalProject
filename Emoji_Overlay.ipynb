{
 "cells": [
  {
   "cell_type": "code",
   "execution_count": 6,
   "id": "53c307d4",
   "metadata": {},
   "outputs": [
    {
     "name": "stdout",
     "output_type": "stream",
     "text": [
      "Defaulting to user installation because normal site-packages is not writeable\n",
      "Collecting protobuf\n",
      "  Downloading protobuf-6.30.2-cp39-abi3-macosx_10_9_universal2.whl (417 kB)\n",
      "\u001b[2K     \u001b[90m━━━━━━━━━━━━━━━━━━━━━━━━━━━━━━━━━━━━━━━\u001b[0m \u001b[32m417.6/417.6 kB\u001b[0m \u001b[31m5.9 MB/s\u001b[0m eta \u001b[36m0:00:00\u001b[0ma \u001b[36m0:00:01\u001b[0m\n",
      "\u001b[?25hInstalling collected packages: protobuf\n",
      "\u001b[31mERROR: pip's dependency resolver does not currently take into account all the packages that are installed. This behaviour is the source of the following dependency conflicts.\n",
      "mediapipe 0.10.14 requires absl-py, which is not installed.\n",
      "mediapipe 0.10.14 requires flatbuffers>=2.0, which is not installed.\n",
      "mediapipe 0.10.14 requires jax, which is not installed.\n",
      "mediapipe 0.10.14 requires jaxlib, which is not installed.\n",
      "mediapipe 0.10.14 requires opencv-contrib-python, which is not installed.\n",
      "mediapipe 0.10.14 requires sounddevice>=0.4.4, which is not installed.\n",
      "mediapipe 0.10.14 requires protobuf<5,>=4.25.3, but you have protobuf 6.30.2 which is incompatible.\u001b[0m\u001b[31m\n",
      "\u001b[0mSuccessfully installed protobuf-6.30.2\n",
      "\n",
      "\u001b[1m[\u001b[0m\u001b[34;49mnotice\u001b[0m\u001b[1;39;49m]\u001b[0m\u001b[39;49m A new release of pip is available: \u001b[0m\u001b[31;49m23.0.1\u001b[0m\u001b[39;49m -> \u001b[0m\u001b[32;49m25.1.1\u001b[0m\n",
      "\u001b[1m[\u001b[0m\u001b[34;49mnotice\u001b[0m\u001b[1;39;49m]\u001b[0m\u001b[39;49m To update, run: \u001b[0m\u001b[32;49m/Applications/Xcode.app/Contents/Developer/usr/bin/python3 -m pip install --upgrade pip\u001b[0m\n"
     ]
    }
   ],
   "source": [
    "!pip install protobuf"
   ]
  },
  {
   "cell_type": "code",
   "execution_count": 15,
   "id": "fd1d29e9",
   "metadata": {},
   "outputs": [
    {
     "name": "stdout",
     "output_type": "stream",
     "text": [
      "Found existing installation: mediapipe 0.10.14\n",
      "Uninstalling mediapipe-0.10.14:\n",
      "  Successfully uninstalled mediapipe-0.10.14\n",
      "Found existing installation: protobuf 6.30.2\n",
      "Uninstalling protobuf-6.30.2:\n",
      "  Successfully uninstalled protobuf-6.30.2\n"
     ]
    }
   ],
   "source": [
    "!pip uninstall mediapipe protobuf -y\n"
   ]
  },
  {
   "cell_type": "code",
   "execution_count": 16,
   "id": "4a7a22ad",
   "metadata": {},
   "outputs": [
    {
     "name": "stdout",
     "output_type": "stream",
     "text": [
      "Defaulting to user installation because normal site-packages is not writeable\n",
      "Collecting mediapipe\n",
      "  Downloading mediapipe-0.10.21-cp39-cp39-macosx_11_0_universal2.whl (49.2 MB)\n",
      "\u001b[2K     \u001b[90m━━━━━━━━━━━━━━━━━━━━━━━━━━━━━━━━━━━━━━━━\u001b[0m \u001b[32m49.2/49.2 MB\u001b[0m \u001b[31m12.7 MB/s\u001b[0m eta \u001b[36m0:00:00\u001b[0m00:01\u001b[0m00:01\u001b[0m\n",
      "\u001b[?25hRequirement already satisfied: numpy<2 in /Users/ayushraman/Library/Python/3.9/lib/python/site-packages (from mediapipe) (1.24.2)\n",
      "Collecting protobuf<5,>=4.25.3\n",
      "  Downloading protobuf-4.25.7-cp37-abi3-macosx_10_9_universal2.whl (394 kB)\n",
      "\u001b[2K     \u001b[90m━━━━━━━━━━━━━━━━━━━━━━━━━━━━━━━━━━━━━━\u001b[0m \u001b[32m394.2/394.2 kB\u001b[0m \u001b[31m12.1 MB/s\u001b[0m eta \u001b[36m0:00:00\u001b[0m\n",
      "\u001b[?25hCollecting flatbuffers>=2.0\n",
      "  Downloading flatbuffers-25.2.10-py2.py3-none-any.whl (30 kB)\n",
      "Requirement already satisfied: attrs>=19.1.0 in /Users/ayushraman/Library/Python/3.9/lib/python/site-packages (from mediapipe) (22.2.0)\n",
      "Collecting absl-py\n",
      "  Downloading absl_py-2.2.2-py3-none-any.whl (135 kB)\n",
      "\u001b[2K     \u001b[90m━━━━━━━━━━━━━━━━━━━━━━━━━━━━━━━━━━━━━━━\u001b[0m \u001b[32m135.6/135.6 kB\u001b[0m \u001b[31m9.0 MB/s\u001b[0m eta \u001b[36m0:00:00\u001b[0m\n",
      "\u001b[?25hCollecting sounddevice>=0.4.4\n",
      "  Downloading sounddevice-0.5.1-py3-none-macosx_10_6_x86_64.macosx_10_6_universal2.whl (107 kB)\n",
      "\u001b[2K     \u001b[90m━━━━━━━━━━━━━━━━━━━━━━━━━━━━━━━━━━━━━━━\u001b[0m \u001b[32m107.9/107.9 kB\u001b[0m \u001b[31m6.1 MB/s\u001b[0m eta \u001b[36m0:00:00\u001b[0m\n",
      "\u001b[?25hCollecting jax\n",
      "  Downloading jax-0.4.30-py3-none-any.whl (2.0 MB)\n",
      "\u001b[2K     \u001b[90m━━━━━━━━━━━━━━━━━━━━━━━━━━━━━━━━━━━━━━━━\u001b[0m \u001b[32m2.0/2.0 MB\u001b[0m \u001b[31m13.9 MB/s\u001b[0m eta \u001b[36m0:00:00\u001b[0ma \u001b[36m0:00:01\u001b[0m\n",
      "\u001b[?25hCollecting opencv-contrib-python\n",
      "  Downloading opencv_contrib_python-4.11.0.86-cp37-abi3-macosx_13_0_arm64.whl (46.3 MB)\n",
      "\u001b[2K     \u001b[90m━━━━━━━━━━━━━━━━━━━━━━━━━━━━━━━━━━━━━━━━\u001b[0m \u001b[32m46.3/46.3 MB\u001b[0m \u001b[31m12.5 MB/s\u001b[0m eta \u001b[36m0:00:00\u001b[0m00:01\u001b[0m00:01\u001b[0m\n",
      "\u001b[?25hCollecting jaxlib\n",
      "  Downloading jaxlib-0.4.30-cp39-cp39-macosx_11_0_arm64.whl (66.7 MB)\n",
      "\u001b[2K     \u001b[90m━━━━━━━━━━━━━━━━━━━━━━━━━━━━━━━━━━━━━━━━\u001b[0m \u001b[32m66.7/66.7 MB\u001b[0m \u001b[31m12.5 MB/s\u001b[0m eta \u001b[36m0:00:00\u001b[0m00:01\u001b[0m00:01\u001b[0m\n",
      "\u001b[?25hRequirement already satisfied: matplotlib in /Users/ayushraman/Library/Python/3.9/lib/python/site-packages (from mediapipe) (3.7.1)\n",
      "Collecting sentencepiece\n",
      "  Downloading sentencepiece-0.2.0-cp39-cp39-macosx_11_0_arm64.whl (1.2 MB)\n",
      "\u001b[2K     \u001b[90m━━━━━━━━━━━━━━━━━━━━━━━━━━━━━━━━━━━━━━━━\u001b[0m \u001b[32m1.2/1.2 MB\u001b[0m \u001b[31m12.5 MB/s\u001b[0m eta \u001b[36m0:00:00\u001b[0ma \u001b[36m0:00:01\u001b[0m\n",
      "\u001b[?25hRequirement already satisfied: CFFI>=1.0 in /Users/ayushraman/Library/Python/3.9/lib/python/site-packages (from sounddevice>=0.4.4->mediapipe) (1.15.1)\n",
      "Requirement already satisfied: importlib-metadata>=4.6 in /Users/ayushraman/Library/Python/3.9/lib/python/site-packages (from jax->mediapipe) (6.0.0)\n",
      "Requirement already satisfied: scipy>=1.9 in /Users/ayushraman/Library/Python/3.9/lib/python/site-packages (from jax->mediapipe) (1.10.1)\n",
      "Collecting ml-dtypes>=0.2.0\n",
      "  Downloading ml_dtypes-0.5.1-cp39-cp39-macosx_10_9_universal2.whl (667 kB)\n",
      "\u001b[2K     \u001b[90m━━━━━━━━━━━━━━━━━━━━━━━━━━━━━━━━━━━━━━\u001b[0m \u001b[32m667.6/667.6 kB\u001b[0m \u001b[31m14.6 MB/s\u001b[0m eta \u001b[36m0:00:00\u001b[0m00:01\u001b[0m\n",
      "\u001b[?25hCollecting opt-einsum\n",
      "  Downloading opt_einsum-3.4.0-py3-none-any.whl (71 kB)\n",
      "\u001b[2K     \u001b[90m━━━━━━━━━━━━━━━━━━━━━━━━━━━━━━━━━━━━━━━━\u001b[0m \u001b[32m71.9/71.9 kB\u001b[0m \u001b[31m4.0 MB/s\u001b[0m eta \u001b[36m0:00:00\u001b[0m\n",
      "\u001b[?25hRequirement already satisfied: kiwisolver>=1.0.1 in /Users/ayushraman/Library/Python/3.9/lib/python/site-packages (from matplotlib->mediapipe) (1.4.4)\n",
      "Requirement already satisfied: importlib-resources>=3.2.0 in /Users/ayushraman/Library/Python/3.9/lib/python/site-packages (from matplotlib->mediapipe) (5.12.0)\n",
      "Requirement already satisfied: pyparsing>=2.3.1 in /Users/ayushraman/Library/Python/3.9/lib/python/site-packages (from matplotlib->mediapipe) (3.0.9)\n",
      "Requirement already satisfied: contourpy>=1.0.1 in /Users/ayushraman/Library/Python/3.9/lib/python/site-packages (from matplotlib->mediapipe) (1.0.7)\n",
      "Requirement already satisfied: cycler>=0.10 in /Users/ayushraman/Library/Python/3.9/lib/python/site-packages (from matplotlib->mediapipe) (0.11.0)\n",
      "Requirement already satisfied: python-dateutil>=2.7 in /Users/ayushraman/Library/Python/3.9/lib/python/site-packages (from matplotlib->mediapipe) (2.8.2)\n",
      "Requirement already satisfied: packaging>=20.0 in /Users/ayushraman/Library/Python/3.9/lib/python/site-packages (from matplotlib->mediapipe) (23.0)\n",
      "Requirement already satisfied: pillow>=6.2.0 in /Users/ayushraman/Library/Python/3.9/lib/python/site-packages (from matplotlib->mediapipe) (9.5.0)\n",
      "Requirement already satisfied: fonttools>=4.22.0 in /Users/ayushraman/Library/Python/3.9/lib/python/site-packages (from matplotlib->mediapipe) (4.39.3)\n",
      "Requirement already satisfied: pycparser in /Users/ayushraman/Library/Python/3.9/lib/python/site-packages (from CFFI>=1.0->sounddevice>=0.4.4->mediapipe) (2.21)\n",
      "Requirement already satisfied: zipp>=0.5 in /Users/ayushraman/Library/Python/3.9/lib/python/site-packages (from importlib-metadata>=4.6->jax->mediapipe) (3.11.0)\n",
      "Requirement already satisfied: six>=1.5 in /Users/ayushraman/Library/Python/3.9/lib/python/site-packages (from python-dateutil>=2.7->matplotlib->mediapipe) (1.16.0)\n",
      "Installing collected packages: sentencepiece, flatbuffers, protobuf, opt-einsum, opencv-contrib-python, ml-dtypes, absl-py, sounddevice, jaxlib, jax, mediapipe\n",
      "Successfully installed absl-py-2.2.2 flatbuffers-25.2.10 jax-0.4.30 jaxlib-0.4.30 mediapipe-0.10.21 ml-dtypes-0.5.1 opencv-contrib-python-4.11.0.86 opt-einsum-3.4.0 protobuf-4.25.7 sentencepiece-0.2.0 sounddevice-0.5.1\n",
      "\n",
      "\u001b[1m[\u001b[0m\u001b[34;49mnotice\u001b[0m\u001b[1;39;49m]\u001b[0m\u001b[39;49m A new release of pip is available: \u001b[0m\u001b[31;49m23.0.1\u001b[0m\u001b[39;49m -> \u001b[0m\u001b[32;49m25.1.1\u001b[0m\n",
      "\u001b[1m[\u001b[0m\u001b[34;49mnotice\u001b[0m\u001b[1;39;49m]\u001b[0m\u001b[39;49m To update, run: \u001b[0m\u001b[32;49m/Applications/Xcode.app/Contents/Developer/usr/bin/python3 -m pip install --upgrade pip\u001b[0m\n"
     ]
    }
   ],
   "source": [
    "!pip install mediapipe"
   ]
  },
  {
   "cell_type": "code",
   "execution_count": 1,
   "id": "602fd80c",
   "metadata": {},
   "outputs": [
    {
     "name": "stdout",
     "output_type": "stream",
     "text": [
      "✅ Step 1: Import successful.\n",
      "✅ Step 2: FaceMesh model loaded successfully.\n",
      "✅ Step 3: Model ran successfully on dummy image.\n",
      "🎉 MediaPipe is installed and working correctly.\n"
     ]
    },
    {
     "name": "stderr",
     "output_type": "stream",
     "text": [
      "WARNING: All log messages before absl::InitializeLog() is called are written to STDERR\n",
      "I0000 00:00:1746940690.908621 10767056 gl_context.cc:369] GL version: 2.1 (2.1 Metal - 89.4), renderer: Apple M1\n",
      "INFO: Created TensorFlow Lite XNNPACK delegate for CPU.\n",
      "W0000 00:00:1746940690.913395 10767587 inference_feedback_manager.cc:114] Feedback manager requires a model with a single signature inference. Disabling support for feedback tensors.\n",
      "W0000 00:00:1746940690.920370 10767589 inference_feedback_manager.cc:114] Feedback manager requires a model with a single signature inference. Disabling support for feedback tensors.\n"
     ]
    }
   ],
   "source": [
    "import cv2\n",
    "import mediapipe as mp\n",
    "import numpy as np\n",
    "\n",
    "def verify_mediapipe():\n",
    "    print(\"✅ Step 1: Import successful.\")\n",
    "\n",
    "    # Initialize Face Mesh\n",
    "    try:\n",
    "        face_mesh = mp.solutions.face_mesh.FaceMesh(\n",
    "            static_image_mode=True,\n",
    "            max_num_faces=1,\n",
    "            refine_landmarks=False,\n",
    "            min_detection_confidence=0.5\n",
    "        )\n",
    "        print(\"✅ Step 2: FaceMesh model loaded successfully.\")\n",
    "    except Exception as e:\n",
    "        print(f\"❌ Failed to initialize FaceMesh: {e}\")\n",
    "        return\n",
    "\n",
    "    # Create a dummy image (black frame)\n",
    "    dummy_image = np.zeros((480, 640, 3), dtype=np.uint8)\n",
    "\n",
    "    # Run FaceMesh\n",
    "    try:\n",
    "        results = face_mesh.process(cv2.cvtColor(dummy_image, cv2.COLOR_BGR2RGB))\n",
    "        print(\"✅ Step 3: Model ran successfully on dummy image.\")\n",
    "    except Exception as e:\n",
    "        print(f\"❌ Model processing failed: {e}\")\n",
    "        return\n",
    "\n",
    "    print(\"🎉 MediaPipe is installed and working correctly.\")\n",
    "\n",
    "verify_mediapipe()\n"
   ]
  },
  {
   "cell_type": "code",
   "execution_count": 6,
   "id": "88404dd2",
   "metadata": {},
   "outputs": [
    {
     "name": "stderr",
     "output_type": "stream",
     "text": [
      "I0000 00:00:1746941125.559827 10767056 gl_context.cc:369] GL version: 2.1 (2.1 Metal - 89.4), renderer: Apple M1\n",
      "W0000 00:00:1746941125.578165 10780759 inference_feedback_manager.cc:114] Feedback manager requires a model with a single signature inference. Disabling support for feedback tensors.\n",
      "W0000 00:00:1746941125.589755 10780759 inference_feedback_manager.cc:114] Feedback manager requires a model with a single signature inference. Disabling support for feedback tensors.\n"
     ]
    },
    {
     "name": "stdout",
     "output_type": "stream",
     "text": [
      "✅ Saved: emoji_overlay_output.mp4\n"
     ]
    }
   ],
   "source": [
    "import cv2\n",
    "import numpy as np\n",
    "import mediapipe as mp\n",
    "import matplotlib.pyplot as plt\n",
    "\n",
    "# Load overlay image (must be RGBA)\n",
    "emoji_overlay = cv2.imread('coolemoji.png', cv2.IMREAD_UNCHANGED)\n",
    "\n",
    "# Helper: Overlay RGBA with alpha blending\n",
    "def overlay_alpha(img, overlay, x, y):\n",
    "    h, w = overlay.shape[:2]\n",
    "    if x < 0 or y < 0 or x + w > img.shape[1] or y + h > img.shape[0]:\n",
    "        return img  # skip if out of bounds\n",
    "    alpha = overlay[:, :, 3] / 255.0\n",
    "    for c in range(3):\n",
    "        img[y:y + h, x:x + w, c] = (1 - alpha) * img[y:y + h, x:x + w, c] + alpha * overlay[:, :, c]\n",
    "    return img\n",
    "\n",
    "# Rotate frames if needed (e.g., iPhone videos stored portrait-upside-down)\n",
    "def correct_rotation(frame):\n",
    "    return cv2.rotate(frame, cv2.ROTATE_90_CLOCKWISE)\n",
    "\n",
    "# Initialize MediaPipe Face Mesh\n",
    "mp_face_mesh = mp.solutions.face_mesh\n",
    "face_mesh = mp_face_mesh.FaceMesh(static_image_mode=False, max_num_faces=1)\n",
    "\n",
    "# Load video\n",
    "cap = cv2.VideoCapture('data/IMG_7389.mov')\n",
    "frames = []\n",
    "while cap.isOpened():\n",
    "    ret, frame = cap.read()\n",
    "    if not ret:\n",
    "        break\n",
    "    rotated = correct_rotation(frame)  # Apply rotation\n",
    "    rgb = cv2.cvtColor(rotated, cv2.COLOR_BGR2RGB)\n",
    "    frames.append(rgb)\n",
    "cap.release()\n",
    "\n",
    "# Process each frame\n",
    "output_frames = []\n",
    "for frame in frames:\n",
    "    h, w = frame.shape[:2]\n",
    "    result = face_mesh.process(cv2.cvtColor(frame, cv2.COLOR_RGB2BGR))\n",
    "    if not result.multi_face_landmarks:\n",
    "        output_frames.append(frame)\n",
    "        continue\n",
    "\n",
    "    lm = result.multi_face_landmarks[0].landmark\n",
    "    p1 = np.array([lm[33].x * w, lm[33].y * h])  # left eye\n",
    "    p2 = np.array([lm[263].x * w, lm[263].y * h])  # right eye\n",
    "    p_center = np.array([lm[1].x * w, lm[1].y * h])  # nose tip\n",
    "\n",
    "    face_width = np.linalg.norm(p1 - p2)\n",
    "    emoji_size = int(face_width * 2.0)\n",
    "\n",
    "    resized_emoji = cv2.resize(emoji_overlay, (emoji_size, emoji_size), interpolation=cv2.INTER_AREA)\n",
    "    top_left_x = int(p_center[0] - emoji_size // 2)\n",
    "    top_left_y = int(p_center[1] - emoji_size // 2)\n",
    "\n",
    "    out = overlay_alpha(frame.copy(), resized_emoji, top_left_x, top_left_y)\n",
    "    output_frames.append(out)\n",
    "\n",
    "# Save output as MP4\n",
    "bgr_frames = [cv2.cvtColor(f, cv2.COLOR_RGB2BGR) for f in output_frames]\n",
    "height, width = bgr_frames[0].shape[:2]\n",
    "fourcc = cv2.VideoWriter_fourcc(*'mp4v')\n",
    "out = cv2.VideoWriter('emoji_overlay_output.mp4', fourcc, 10.0, (width, height))\n",
    "\n",
    "for frame in bgr_frames:\n",
    "    out.write(frame)\n",
    "out.release()\n",
    "\n",
    "print(\"✅ Saved: emoji_overlay_output.mp4\")"
   ]
  }
 ],
 "metadata": {
  "kernelspec": {
   "display_name": "Python 3",
   "language": "python",
   "name": "python3"
  },
  "language_info": {
   "codemirror_mode": {
    "name": "ipython",
    "version": 3
   },
   "file_extension": ".py",
   "mimetype": "text/x-python",
   "name": "python",
   "nbconvert_exporter": "python",
   "pygments_lexer": "ipython3",
   "version": "3.9.6"
  }
 },
 "nbformat": 4,
 "nbformat_minor": 5
}
